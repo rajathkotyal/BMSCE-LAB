{
  "nbformat": 4,
  "nbformat_minor": 0,
  "metadata": {
    "colab": {
      "name": "Lab4a_Bayesian.ipynb",
      "provenance": [],
      "collapsed_sections": []
    },
    "kernelspec": {
      "name": "python3",
      "display_name": "Python 3"
    },
    "language_info": {
      "name": "python"
    }
  },
  "cells": [
    {
      "cell_type": "code",
      "metadata": {
        "colab": {
          "base_uri": "https://localhost:8080/"
        },
        "id": "X6RFQ2Av3sJw",
        "outputId": "de49b688-75a3-4274-ffbc-2d82ff5b9295"
      },
      "source": [
        "import pandas as pd\n",
        "from sklearn.model_selection import train_test_split\n",
        "from sklearn.naive_bayes import GaussianNB\n",
        "from sklearn import metrics\n",
        "\n",
        "df = pd.read_csv(\"rings.csv\")\n",
        "feature_col_names = ['Length','Diameter','Height','Whole weight','Shucked weight','Viscera weight','Shell weight']\n",
        "predicted_class_names = ['Rings']\n",
        "\n",
        "X = df[feature_col_names].values \n",
        "y = df[predicted_class_names].values\n",
        "\n",
        "print(df.head)\n",
        "xtrain,xtest,ytrain,ytest=train_test_split(X,y,test_size=0.40)\n",
        "\n",
        "print ('\\n the total number of Training Data :',ytrain.shape)\n",
        "print ('\\n the total number of Test Data :',ytest.shape)\n",
        "\n",
        "clf = GaussianNB().fit(xtrain,ytrain.ravel())\n",
        "predicted = clf.predict(xtest)\n",
        "predictTestData= clf.predict([[0.455,0.365,0.095,0.514,0.2245,0.101,0.15]])\n",
        "\n",
        "print('\\n Confusion matrix')\n",
        "print(metrics.confusion_matrix(ytest,predicted))\n",
        "\n",
        "print('\\n Accuracy of the classifier is',metrics.accuracy_score(ytest,predicted))\n",
        "'''\n",
        "print('\\n The value of Precision', metrics.precision_score(ytest,predicted))\n",
        "print('\\n The value of Recall', metrics.recall_score(ytest,predicted))\n",
        "'''\n",
        "print(\"Predicted Value for individual Test Data:\", predictTestData)"
      ],
      "execution_count": 5,
      "outputs": [
        {
          "output_type": "stream",
          "text": [
            "<bound method NDFrame.head of       Length  Diameter  Height  ...  Viscera weight  Shell weight  Rings\n",
            "0      0.455     0.365   0.095  ...          0.1010        0.1500     15\n",
            "1      0.350     0.265   0.090  ...          0.0485        0.0700      7\n",
            "2      0.530     0.420   0.135  ...          0.1415        0.2100      9\n",
            "3      0.440     0.365   0.125  ...          0.1140        0.1550     10\n",
            "4      0.330     0.255   0.080  ...          0.0395        0.0550      7\n",
            "...      ...       ...     ...  ...             ...           ...    ...\n",
            "4172   0.565     0.450   0.165  ...          0.2390        0.2490     11\n",
            "4173   0.590     0.440   0.135  ...          0.2145        0.2605     10\n",
            "4174   0.600     0.475   0.205  ...          0.2875        0.3080      9\n",
            "4175   0.625     0.485   0.150  ...          0.2610        0.2960     10\n",
            "4176   0.710     0.555   0.195  ...          0.3765        0.4950     12\n",
            "\n",
            "[4177 rows x 8 columns]>\n",
            "\n",
            " the total number of Training Data : (2506, 1)\n",
            "\n",
            " the total number of Test Data : (1671, 1)\n",
            "\n",
            " Confusion matrix\n",
            "[[ 8  1  0  0  0  0  0  0  0  0  0  0  0  0  0  0  0  0  0  0  0  0  0  0]\n",
            " [12  7  4  0  0  0  0  0  0  0  0  0  0  0  0  0  0  0  0  0  0  0  0  0]\n",
            " [ 7 11 13  5  2  0  0  0  0  0  0  0  0  0  0  0  0  0  0  0  0  0  0  0]\n",
            " [ 1  6 34 27 35  4  3  0  0  0  0  0  0  0  0  0  0  0  0  0  0  0  0  0]\n",
            " [ 0  0 22 28 67 16 13  0  3  0  0  0  0  0  0  0  0  0  0  0  0  0  0  0]\n",
            " [ 0  1  8 13 64 54 57 18  9  0  0  0  0  0  0  0  0  0  0  0  0  0  0  0]\n",
            " [ 0  0  7  8 41 42 89 37 43  1  0  0  0  0  0  0  0  0  0  0  0  0  0  0]\n",
            " [ 0  0  3  9 18 27 64 42 80  2  0  0  0  0  0  0  0  0  0  0  0  0  0  1]\n",
            " [ 0  0  2  2 12 23 41 26 89  0  0  0  0  0  0  0  0  0  0  0  2  0  0  1]\n",
            " [ 0  0  1  1  6 16 24 14 45  2  0  0  0  0  0  0  0  0  0  0  1  0  0  1]\n",
            " [ 0  0  2  1  5  8 25 14 26  1  0  0  0  0  3  0  0  0  0  0  1  0  0  0]\n",
            " [ 0  0  0  1  3  8 13  9 15  2  0  0  0  0  0  0  0  0  0  0  0  0  0  2]\n",
            " [ 0  0  0  0  1  8 11  5  9  0  0  0  0  0  2  0  0  0  0  0  0  0  0  1]\n",
            " [ 0  0  0  0  1  2  8  3  9  0  0  0  0  0  3  0  0  0  0  0  0  0  0  1]\n",
            " [ 0  0  0  0  1  1 11  5  2  1  0  0  0  0  3  0  0  0  0  0  0  0  0  2]\n",
            " [ 0  0  0  0  3  1  3  3  9  0  0  0  0  0  1  0  0  0  0  0  0  0  0  0]\n",
            " [ 0  0  0  0  1  0  6  4  5  0  0  0  0  0  0  0  0  0  1  0  0  0  0  0]\n",
            " [ 0  0  0  0  0  1  3  3  3  0  0  0  0  0  2  0  0  0  0  0  0  0  0  1]\n",
            " [ 0  0  0  0  0  1  1  0  1  0  0  0  0  0  0  1  0  0  0  0  0  0  0  0]\n",
            " [ 0  0  0  0  0  0  2  0  0  0  0  0  0  0  1  0  0  0  0  0  0  0  0  0]\n",
            " [ 0  0  0  0  0  1  1  1  3  0  0  0  0  0  0  0  0  0  0  0  0  0  0  0]\n",
            " [ 0  0  0  0  0  0  0  0  1  0  0  0  0  0  0  0  0  0  0  0  0  0  0  1]\n",
            " [ 0  0  0  0  0  0  0  0  0  0  0  0  0  0  1  0  0  0  0  0  0  0  0  0]\n",
            " [ 0  0  0  0  0  0  0  0  0  0  0  0  0  0  0  0  0  0  0  0  0  0  0  0]]\n",
            "\n",
            " Accuracy of the classifier is 0.23997606223818074\n",
            "Predicted Value for individual Test Data: [7]\n"
          ],
          "name": "stdout"
        }
      ]
    }
  ]
}