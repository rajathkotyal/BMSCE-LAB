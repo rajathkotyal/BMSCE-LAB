{
  "nbformat": 4,
  "nbformat_minor": 0,
  "metadata": {
    "kernelspec": {
      "name": "python3",
      "display_name": "Python 3",
      "language": "python"
    },
    "language_info": {
      "name": "python",
      "version": "3.7.9",
      "mimetype": "text/x-python",
      "codemirror_mode": {
        "name": "ipython",
        "version": 3
      },
      "pygments_lexer": "ipython3",
      "nbconvert_exporter": "python",
      "file_extension": ".py"
    },
    "colab": {
      "name": "candiadate.ipynb",
      "provenance": []
    }
  },
  "cells": [
    {
      "cell_type": "code",
      "metadata": {
        "_uuid": "8f2839f25d086af736a60e9eeb907d3b93b6e0e5",
        "_cell_guid": "b1076dfc-b9ad-4769-8c92-a6c4dae69d19",
        "trusted": true,
        "id": "plnmQCaej5n6",
        "outputId": "e64dd99c-1544-4859-bf3a-8073de03d205"
      },
      "source": [
        "import numpy as np \n",
        "import pandas as pd \n",
        "import os"
      ],
      "execution_count": null,
      "outputs": [
        {
          "output_type": "stream",
          "text": [
            "/kaggle/input/candidatecsv/candidate.csv\n"
          ],
          "name": "stdout"
        }
      ]
    },
    {
      "cell_type": "code",
      "metadata": {
        "trusted": true,
        "id": "HPikQgIuj5oC",
        "outputId": "72caf0ef-a685-412d-e3e3-b007f9f33536"
      },
      "source": [
        "data = pd.read_csv(\"/079/lab2/candidate.csv\")\n",
        "print(\"Entered data is\")\n",
        "print(data)\n",
        "concepts = np.array(data)[:,:-1]\n",
        "print(\"\\n The attributes are: \\n\",d)\n",
        "target = np.array(data)[:,-1]\n",
        "print(\"\\n The target is: \",target)\n"
      ],
      "execution_count": null,
      "outputs": [
        {
          "output_type": "stream",
          "text": [
            "Entered data is\n",
            "     sky airtemp humidity     wind water forecast enjoysport\n",
            "0  sunny    warm   normal   strong  warm     same        yes\n",
            "1  sunny    warm     high  strong   warm     same        yes\n",
            "2  rainy    cold     high   strong  warm   change         no\n",
            "3  sunny    warm     high   strong  cool   change        yes\n",
            "\n",
            " The attributes are: \n",
            " [['sunny' 'warm' 'normal' 'strong' 'warm' 'same']\n",
            " ['sunny' 'warm' 'high' 'strong ' 'warm' 'same']\n",
            " ['rainy' 'cold' 'high' 'strong' 'warm' 'change']\n",
            " ['sunny' 'warm' 'high' 'strong' 'cool' 'change']]\n",
            "\n",
            " The target is:  ['yes' 'yes' 'no' 'yes']\n"
          ],
          "name": "stdout"
        }
      ]
    },
    {
      "cell_type": "code",
      "metadata": {
        "trusted": true,
        "id": "2Wv7tu0Rj5oD",
        "outputId": "d5934108-fba4-40cf-cb31-817107645acb"
      },
      "source": [
        "#training function to implement candidate_elimination algorithm\n",
        "def learn(concepts, target):\n",
        " specific_h = concepts[0].copy()\n",
        " print(\"\\n Initialization of specific_h and general_h\")\n",
        " print(specific_h)\n",
        " general_h = [[\"?\" for i in range(len(specific_h))] for i in\n",
        "range(len(specific_h))]\n",
        " print(general_h)\n",
        " for i, h in enumerate(concepts):\n",
        "     if target[i] == \"yes\":\n",
        "         for x in range(len(specific_h)):\n",
        "             if h[x]!= specific_h[x]:\n",
        "                 specific_h[x] ='?'\n",
        "                 general_h[x][x] ='?'\n",
        "             print(specific_h)\n",
        "     print(specific_h)\n",
        "     if target[i] == \"no\":\n",
        "         for x in range(len(specific_h)):\n",
        "             if h[x]!= specific_h[x]:\n",
        "                 general_h[x][x] = specific_h[x]\n",
        "             else:\n",
        "                 general_h[x][x] = '?'\n",
        "     print(\"\\n Steps of Candidate Elimination Algorithm\",i+1)\n",
        "     print(specific_h)\n",
        "     print(general_h)\n",
        " indices = [i for i, val in enumerate(general_h) if val ==\n",
        "['?', '?', '?', '?', '?', '?']]\n",
        " for i in indices:\n",
        "     general_h.remove(['?', '?', '?', '?', '?', '?'])\n",
        " return specific_h, general_h\n",
        "s_final, g_final = learn(concepts, target)\n",
        "\n",
        "#obtaining the final hypothesis\n",
        "print(\"\\nFinal Specific_h:\", s_final, sep=\"\\n\")\n",
        "print(\"\\nFinal General_h:\", g_final, sep=\"\\n\")"
      ],
      "execution_count": null,
      "outputs": [
        {
          "output_type": "stream",
          "text": [
            "\n",
            " Initialization of specific_h and general_h\n",
            "['sunny' 'warm' 'normal' 'strong' 'warm' 'same']\n",
            "[['?', '?', '?', '?', '?', '?'], ['?', '?', '?', '?', '?', '?'], ['?', '?', '?', '?', '?', '?'], ['?', '?', '?', '?', '?', '?'], ['?', '?', '?', '?', '?', '?'], ['?', '?', '?', '?', '?', '?']]\n",
            "['sunny' 'warm' 'normal' 'strong' 'warm' 'same']\n",
            "['sunny' 'warm' 'normal' 'strong' 'warm' 'same']\n",
            "['sunny' 'warm' 'normal' 'strong' 'warm' 'same']\n",
            "['sunny' 'warm' 'normal' 'strong' 'warm' 'same']\n",
            "['sunny' 'warm' 'normal' 'strong' 'warm' 'same']\n",
            "['sunny' 'warm' 'normal' 'strong' 'warm' 'same']\n",
            "['sunny' 'warm' 'normal' 'strong' 'warm' 'same']\n",
            "\n",
            " Steps of Candidate Elimination Algorithm 1\n",
            "['sunny' 'warm' 'normal' 'strong' 'warm' 'same']\n",
            "[['?', '?', '?', '?', '?', '?'], ['?', '?', '?', '?', '?', '?'], ['?', '?', '?', '?', '?', '?'], ['?', '?', '?', '?', '?', '?'], ['?', '?', '?', '?', '?', '?'], ['?', '?', '?', '?', '?', '?']]\n",
            "['sunny' 'warm' 'normal' 'strong' 'warm' 'same']\n",
            "['sunny' 'warm' 'normal' 'strong' 'warm' 'same']\n",
            "['sunny' 'warm' '?' 'strong' 'warm' 'same']\n",
            "['sunny' 'warm' '?' '?' 'warm' 'same']\n",
            "['sunny' 'warm' '?' '?' 'warm' 'same']\n",
            "['sunny' 'warm' '?' '?' 'warm' 'same']\n",
            "['sunny' 'warm' '?' '?' 'warm' 'same']\n",
            "\n",
            " Steps of Candidate Elimination Algorithm 2\n",
            "['sunny' 'warm' '?' '?' 'warm' 'same']\n",
            "[['?', '?', '?', '?', '?', '?'], ['?', '?', '?', '?', '?', '?'], ['?', '?', '?', '?', '?', '?'], ['?', '?', '?', '?', '?', '?'], ['?', '?', '?', '?', '?', '?'], ['?', '?', '?', '?', '?', '?']]\n",
            "['sunny' 'warm' '?' '?' 'warm' 'same']\n",
            "\n",
            " Steps of Candidate Elimination Algorithm 3\n",
            "['sunny' 'warm' '?' '?' 'warm' 'same']\n",
            "[['sunny', '?', '?', '?', '?', '?'], ['?', 'warm', '?', '?', '?', '?'], ['?', '?', '?', '?', '?', '?'], ['?', '?', '?', '?', '?', '?'], ['?', '?', '?', '?', '?', '?'], ['?', '?', '?', '?', '?', 'same']]\n",
            "['sunny' 'warm' '?' '?' 'warm' 'same']\n",
            "['sunny' 'warm' '?' '?' 'warm' 'same']\n",
            "['sunny' 'warm' '?' '?' 'warm' 'same']\n",
            "['sunny' 'warm' '?' '?' 'warm' 'same']\n",
            "['sunny' 'warm' '?' '?' '?' 'same']\n",
            "['sunny' 'warm' '?' '?' '?' '?']\n",
            "['sunny' 'warm' '?' '?' '?' '?']\n",
            "\n",
            " Steps of Candidate Elimination Algorithm 4\n",
            "['sunny' 'warm' '?' '?' '?' '?']\n",
            "[['sunny', '?', '?', '?', '?', '?'], ['?', 'warm', '?', '?', '?', '?'], ['?', '?', '?', '?', '?', '?'], ['?', '?', '?', '?', '?', '?'], ['?', '?', '?', '?', '?', '?'], ['?', '?', '?', '?', '?', '?']]\n",
            "\n",
            "Final Specific_h:\n",
            "['sunny' 'warm' '?' '?' '?' '?']\n",
            "\n",
            "Final General_h:\n",
            "[['sunny', '?', '?', '?', '?', '?'], ['?', 'warm', '?', '?', '?', '?']]\n"
          ],
          "name": "stdout"
        }
      ]
    },
    {
      "cell_type": "code",
      "metadata": {
        "trusted": true,
        "id": "H3d_XAs4j5oE"
      },
      "source": [
        ""
      ],
      "execution_count": null,
      "outputs": []
    }
  ]
}